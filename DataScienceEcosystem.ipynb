{
 "cells": [
  {
   "cell_type": "markdown",
   "id": "8cfa857b-ec3b-422a-b76c-978126b6a29a",
   "metadata": {},
   "source": [
    "# Data Science Tools and Ecosystem"
   ]
  },
  {
   "cell_type": "markdown",
   "id": "bf47abc7-e7a5-4814-ac91-87907e7caac1",
   "metadata": {},
   "source": [
    "In this notebook, Data Science Tools and Ecosystem are summarized."
   ]
  },
  {
   "cell_type": "markdown",
   "id": "17a20eef-4fae-4850-a2dc-7bcae2b70c69",
   "metadata": {},
   "source": [
    "**Objectives:**\n",
    "- List popular DS languages\n",
    "- List poopular DS libraries\n",
    "- Perform Arithemetic operations"
   ]
  },
  {
   "cell_type": "markdown",
   "id": "e105bf11-13a2-41c1-a45f-6c3bd0b28242",
   "metadata": {},
   "source": [
    "Some of the popular languages that Data Scientists use are:\n",
    "1. Python\n",
    "2. R\n",
    "3. SQL\n"
   ]
  },
  {
   "cell_type": "markdown",
   "id": "c87061a2-1bcf-4d5d-8999-799b47c75850",
   "metadata": {},
   "source": [
    "Some of the commonly used libraries used by Data Scientists include:\n",
    "1. Scikitlearn\n",
    "2. Pandas\n",
    "3. TensorFlow"
   ]
  },
  {
   "cell_type": "markdown",
   "id": "33f5fac1-a6af-4315-a5bb-4fa7dc726555",
   "metadata": {},
   "source": [
    "Data Science Tools |\n",
    "-----------------  |\n",
    "Jupyter |\n",
    "RStudio |\n",
    "Spyder |\n",
    "\n"
   ]
  },
  {
   "cell_type": "markdown",
   "id": "d9690034-bb9f-47de-a1c9-548e59bb3745",
   "metadata": {},
   "source": [
    "### Below are a few examples of evaluating arithmetic expressions in Python."
   ]
  },
  {
   "cell_type": "code",
   "execution_count": 2,
   "id": "13de6d15-d9b7-4712-a6af-3b76040443c6",
   "metadata": {
    "tags": []
   },
   "outputs": [
    {
     "data": {
      "text/plain": [
       "17"
      ]
     },
     "execution_count": 2,
     "metadata": {},
     "output_type": "execute_result"
    }
   ],
   "source": [
    "#This a simple arithmetic expression to mutiply then add integers\n",
    "(3*4)+5"
   ]
  },
  {
   "cell_type": "code",
   "execution_count": 3,
   "id": "d1045ee8-8f65-402a-b367-b5b042c25f4b",
   "metadata": {
    "tags": []
   },
   "outputs": [
    {
     "data": {
      "text/plain": [
       "3.3333333333333335"
      ]
     },
     "execution_count": 3,
     "metadata": {},
     "output_type": "execute_result"
    }
   ],
   "source": [
    "#This will convert 200 minutes to hours by diving by 60\n",
    "200/60"
   ]
  },
  {
   "cell_type": "markdown",
   "id": "9f064212-edb7-4dc2-9c4d-64d688148782",
   "metadata": {},
   "source": [
    "## Author\n",
    "Aashir Jalal"
   ]
  }
 ],
 "metadata": {
  "kernelspec": {
   "display_name": "Python 3 (ipykernel)",
   "language": "python",
   "name": "python3"
  },
  "language_info": {
   "codemirror_mode": {
    "name": "ipython",
    "version": 3
   },
   "file_extension": ".py",
   "mimetype": "text/x-python",
   "name": "python",
   "nbconvert_exporter": "python",
   "pygments_lexer": "ipython3",
   "version": "3.11.5"
  }
 },
 "nbformat": 4,
 "nbformat_minor": 5
}
